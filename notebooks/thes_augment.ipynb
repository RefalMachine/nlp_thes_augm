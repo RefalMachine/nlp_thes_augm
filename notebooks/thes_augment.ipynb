{
 "cells": [
  {
   "cell_type": "code",
   "execution_count": null,
   "id": "c5e190ad",
   "metadata": {},
   "outputs": [],
   "source": [
    "import torch\n",
    "from transformers import AutoTokenizer, AutoModel\n",
    "tokenizer = AutoTokenizer.from_pretrained(\"cointegrated/rubert-tiny\")\n",
    "model = AutoModel.from_pretrained(\"cointegrated/rubert-tiny\")"
   ]
  },
  {
   "cell_type": "code",
   "execution_count": null,
   "id": "40e17378",
   "metadata": {},
   "outputs": [],
   "source": [
    "import zipfile\n",
    "archive = zipfile.ZipFile(r'D:\\WorkFolder\\data\\news2017_raw\\news2017\\201701\\01012017-000000-R517858803_htm.zip', 'r')"
   ]
  },
  {
   "cell_type": "code",
   "execution_count": null,
   "id": "50f34cb1",
   "metadata": {},
   "outputs": [],
   "source": [
    "files_names = archive.namelist()"
   ]
  },
  {
   "cell_type": "code",
   "execution_count": null,
   "id": "ea5d3db4",
   "metadata": {},
   "outputs": [],
   "source": [
    "import io\n",
    "data = io.TextIOWrapper(archive.open(files_names[1]), 'windows-1251').read()"
   ]
  },
  {
   "cell_type": "code",
   "execution_count": null,
   "id": "0378c078",
   "metadata": {},
   "outputs": [],
   "source": [
    "print(data)"
   ]
  },
  {
   "cell_type": "code",
   "execution_count": null,
   "id": "9339f60c",
   "metadata": {},
   "outputs": [],
   "source": [
    "import pandas as pd\n",
    "df = pd.DataFrame()"
   ]
  },
  {
   "cell_type": "code",
   "execution_count": null,
   "id": "cd272c4c",
   "metadata": {},
   "outputs": [],
   "source": [
    "import os\n",
    "from tqdm import tqdm\n",
    "\n",
    "news_dir = r'D:\\WorkFolder\\data\\news2017_raw\\news2017'\n",
    "news_out_dir = r'D:\\WorkFolder\\data\\news2017'\n",
    "for i, folder in enumerate(os.listdir(news_dir)):\n",
    "    df = pd.DataFrame()\n",
    "    documents = []\n",
    "    \n",
    "    news_subdir = os.path.join(news_dir, folder)\n",
    "    for zip_file_name in tqdm(os.listdir(news_subdir)):\n",
    "        archive_path = os.path.join(news_subdir, zip_file_name)\n",
    "        archive = zipfile.ZipFile(archive_path, 'r')\n",
    "        \n",
    "        for file_name in archive.namelist():\n",
    "            try:\n",
    "                data = io.TextIOWrapper(archive.open(file_name), 'windows-1251').read()\n",
    "            except:\n",
    "                continue\n",
    "            documents.append(preprocess_htm(data))\n",
    "    df['text'] = documents\n",
    "    df.to_csv(os.path.join(news_out_dir, f'{i}.csv'))"
   ]
  },
  {
   "cell_type": "code",
   "execution_count": null,
   "id": "0be45581",
   "metadata": {},
   "outputs": [],
   "source": [
    "test_df.shape"
   ]
  },
  {
   "cell_type": "code",
   "execution_count": null,
   "id": "ec665d62",
   "metadata": {},
   "outputs": [],
   "source": [
    "test_df.iloc[0].tolist()[0]"
   ]
  },
  {
   "cell_type": "code",
   "execution_count": null,
   "id": "048529f2",
   "metadata": {},
   "outputs": [],
   "source": [
    "import re\n",
    "def preprocess_htm(text):\n",
    "    text = text.replace('&lt;', '<').replace('&gt;', '>')\n",
    "    text = re.sub(r'<HTML>(.*?)</NOMORPH>', '', text, flags=re.DOTALL|re.M)\n",
    "    if '</BODY>' in text:\n",
    "        text = text[:text.find('</BODY>')]\n",
    "    text = re.sub(r'<(.*?)>', '', text)\n",
    "    text = text.strip()\n",
    "    return text"
   ]
  },
  {
   "cell_type": "code",
   "execution_count": null,
   "id": "c9db79f5",
   "metadata": {},
   "outputs": [],
   "source": [
    "print(preprocess_htm(test_df.iloc[2].tolist()[0]))"
   ]
  },
  {
   "cell_type": "code",
   "execution_count": null,
   "id": "8347abeb",
   "metadata": {},
   "outputs": [],
   "source": [
    "test_df['clean_text'] = test_df['raw_htm'].apply(lambda x: preprocess_htm(x))"
   ]
  },
  {
   "cell_type": "code",
   "execution_count": null,
   "id": "53d29368",
   "metadata": {},
   "outputs": [],
   "source": [
    "print(test_df['clean_text'].sample(1).tolist()[0])"
   ]
  },
  {
   "cell_type": "code",
   "execution_count": null,
   "id": "5e9900e4",
   "metadata": {},
   "outputs": [],
   "source": [
    "text = test_df['clean_text'].sample(1).tolist()[0]\n",
    "print(text)"
   ]
  },
  {
   "cell_type": "code",
   "execution_count": null,
   "id": "c82c9326",
   "metadata": {},
   "outputs": [],
   "source": [
    "' '.join(text.split())"
   ]
  },
  {
   "cell_type": "code",
   "execution_count": 1,
   "id": "827d00dc",
   "metadata": {},
   "outputs": [],
   "source": [
    "import pymorphy2\n",
    "from functools import lru_cache\n",
    "\n",
    "morph_analyzer = pymorphy2.MorphAnalyzer()\n",
    "\n",
    "@lru_cache(maxsize=1000000)\n",
    "def get_morph(word):\n",
    "    return morph_analyzer.parse(word)[0].normal_form\n",
    "\n",
    "def lemmatize_word(word):\n",
    "    if word.isdigit() or len(word) < 3:\n",
    "        return word\n",
    "    prefix = ''\n",
    "    suffix = ''\n",
    "    if word[0] in string.punctuation:\n",
    "        prefix = word[0]\n",
    "        word = word[1:]\n",
    "        \n",
    "    if word[-1] in string.punctuation:\n",
    "        suffix = word[-1]\n",
    "        word = word[:-1]\n",
    "    \n",
    "    return prefix + get_morph(word) + suffix"
   ]
  },
  {
   "cell_type": "code",
   "execution_count": 2,
   "id": "98e8668a",
   "metadata": {},
   "outputs": [],
   "source": [
    "import numpy as np\n",
    "def corrupt_text(text, frac=0.2):\n",
    "    splitted_text = text.split()\n",
    "    seeds = sorted(np.random.choice(range(0, len(splitted_text)), len(splitted_text) // int(1 / frac) + 1, replace=False))\n",
    "    for i, seed in enumerate(seeds):\n",
    "        n = min(3, seeds[i + 1] - seed if i < len(seeds) - 1 else len(splitted_text) - seed)\n",
    "        for j in range(seed, seed + n):\n",
    "            splitted_text[j] = lemmatize_word(splitted_text[j])\n",
    "    return ' '.join(splitted_text)"
   ]
  },
  {
   "cell_type": "code",
   "execution_count": 3,
   "id": "fc337e5b",
   "metadata": {},
   "outputs": [
    {
     "data": {
      "text/plain": [
       "'!\"#$%&\\'()*+,-./:;<=>?@[\\\\]^_`{|}~'"
      ]
     },
     "execution_count": 3,
     "metadata": {},
     "output_type": "execute_result"
    }
   ],
   "source": [
    "import re\n",
    "import string\n",
    "import nltk\n",
    "string.punctuation"
   ]
  },
  {
   "cell_type": "code",
   "execution_count": 4,
   "id": "9bd699d1",
   "metadata": {},
   "outputs": [
    {
     "name": "stderr",
     "output_type": "stream",
     "text": [
      "[nltk_data] Downloading package stopwords to\n",
      "[nltk_data]     C:\\Users\\1\\AppData\\Roaming\\nltk_data...\n",
      "[nltk_data]   Package stopwords is already up-to-date!\n"
     ]
    },
    {
     "data": {
      "text/plain": [
       "True"
      ]
     },
     "execution_count": 4,
     "metadata": {},
     "output_type": "execute_result"
    }
   ],
   "source": [
    "nltk.download('stopwords')"
   ]
  },
  {
   "cell_type": "code",
   "execution_count": 5,
   "id": "49b0c4f9",
   "metadata": {},
   "outputs": [],
   "source": [
    "stopwords = nltk.corpus.stopwords.words('russian')"
   ]
  },
  {
   "cell_type": "code",
   "execution_count": 6,
   "id": "a88d55fe",
   "metadata": {},
   "outputs": [],
   "source": [
    "def lemmatize_word(word):\n",
    "    if word.isdigit() or len(word) < 3:\n",
    "        return word\n",
    "    prefix = ''\n",
    "    suffix = ''\n",
    "    if word[0] in string.punctuation:\n",
    "        prefix = word[0]\n",
    "        word = word[1:]\n",
    "        \n",
    "    if word[-1] in string.punctuation:\n",
    "        suffix = word[-1]\n",
    "        word = word[:-1]\n",
    "    \n",
    "    return prefix + get_morph(word) + suffix"
   ]
  },
  {
   "cell_type": "code",
   "execution_count": 7,
   "id": "6aa80d93",
   "metadata": {},
   "outputs": [],
   "source": [
    "import pandas as pd\n",
    "import os\n",
    "df_path = r'D:\\WorkFolder\\data\\news2017\\0.csv'\n",
    "df = pd.read_csv(df_path)\n"
   ]
  },
  {
   "cell_type": "code",
   "execution_count": 8,
   "id": "ccf78b91",
   "metadata": {},
   "outputs": [],
   "source": [
    "df = df.dropna()"
   ]
  },
  {
   "cell_type": "code",
   "execution_count": 33,
   "id": "8cd82295",
   "metadata": {},
   "outputs": [],
   "source": [
    "from razdel import sentenize\n",
    "\n",
    "def sentenize_doc(text):\n",
    "    sentences = []\n",
    "    text_splitted = [t.strip() for t in text.split('\\n') if len(t.strip()) > 0]\n",
    "    for t in text_splitted:\n",
    "        sentences += list(s.text for s in sentenize(t))\n",
    "    return sentences"
   ]
  },
  {
   "cell_type": "code",
   "execution_count": 34,
   "id": "c7a1f38d",
   "metadata": {},
   "outputs": [
    {
     "data": {
      "text/plain": [
       "['На похороны убийцы российского посла пришли тысячи турок',\n",
       " 'На похороны Мевлют Мерт Алтынташа, убившего российского посла, пришли тысячи людей.',\n",
       " 'Среди присутствующих были десятки действующих офицеров полиции.',\n",
       " 'По сообщениям турецких СМИ, на похоронах Мевлют Мерт Алтынташа, полицейского и бывшего сотрудника охраны президента Турции, расстрелявшего посла РФ в Турции Карлова, присутствовало несколько тысяч человек.',\n",
       " 'На родине убийцы гроб с его телом пронесли на руках по улицам селения, где он родился.',\n",
       " 'Среди людей на панихиде было много офицеров полиции в форме, которые также пришли почтить память преступника.']"
      ]
     },
     "execution_count": 34,
     "metadata": {},
     "output_type": "execute_result"
    }
   ],
   "source": [
    "sentenize_doc(df.iloc[1]['text'])"
   ]
  },
  {
   "cell_type": "code",
   "execution_count": 35,
   "id": "d5423000",
   "metadata": {},
   "outputs": [
    {
     "name": "stderr",
     "output_type": "stream",
     "text": [
      "855211it [03:41, 3853.49it/s]\n"
     ]
    }
   ],
   "source": [
    "from tqdm import tqdm\n",
    "sentences = []\n",
    "for i, row in tqdm(df.iterrows()):\n",
    "    sentences += sentenize_doc(row['text'])"
   ]
  },
  {
   "cell_type": "code",
   "execution_count": 36,
   "id": "2dc19fac",
   "metadata": {},
   "outputs": [],
   "source": [
    "df = pd.DataFrame()\n",
    "df['text'] = sentences"
   ]
  },
  {
   "cell_type": "code",
   "execution_count": 37,
   "id": "7189f2ff",
   "metadata": {},
   "outputs": [
    {
     "name": "stderr",
     "output_type": "stream",
     "text": [
      "100%|███████████████████████████████████████████████████████████████████| 10779942/10779942 [11:18<00:00, 15882.94it/s]\n"
     ]
    }
   ],
   "source": [
    "from tqdm import tqdm\n",
    "tqdm.pandas()\n",
    "df['corrupted_text'] = df['text'].progress_apply(corrupt_text)"
   ]
  },
  {
   "cell_type": "code",
   "execution_count": 41,
   "id": "bc250fee",
   "metadata": {},
   "outputs": [],
   "source": [
    "def print_sample(df):\n",
    "    sample = df.sample(1)\n",
    "    print(sample['text'].tolist()[0])\n",
    "    print(sample['corrupted_text'].tolist()[0])"
   ]
  },
  {
   "cell_type": "code",
   "execution_count": 52,
   "id": "27bd0454",
   "metadata": {},
   "outputs": [
    {
     "name": "stdout",
     "output_type": "stream",
     "text": [
      "Новости по теме При любом использовании материалов НТВ ссылка (для сайтов - гиперссылка на www.ntv.ru ) обязательна.\n",
      "Новости по теме при любой использование материалов нтв ссылка (для сайтов - гиперссылка на www.ntv.ru ) обязательный.\n"
     ]
    }
   ],
   "source": [
    "print_sample(df)"
   ]
  },
  {
   "cell_type": "code",
   "execution_count": 57,
   "id": "73e73b82",
   "metadata": {},
   "outputs": [
    {
     "data": {
      "text/plain": [
       "'По сообщениям турецких СМИ, на похоронах Мевлют Мерт Алтынташа, полицейского и бывшего сотрудника охраны президента Турции, расстрелявшего посла РФ в Турции Карлова, присутствовало несколько тысяч человек.'"
      ]
     },
     "execution_count": 57,
     "metadata": {},
     "output_type": "execute_result"
    }
   ],
   "source": [
    "df['text'][df['text'].apply(lambda x: len(x) > 200)].iloc[0]"
   ]
  },
  {
   "cell_type": "code",
   "execution_count": 58,
   "id": "ded8e162",
   "metadata": {},
   "outputs": [
    {
     "data": {
      "text/plain": [
       "'По сообщениям турецких СМИ, на похоронах мевлютый мерт алтынташ, полицейский и бывший сотрудника охраны президента турция, расстрелять посол РФ в Турции Карлова, присутствовать несколько тысяча человек.'"
      ]
     },
     "execution_count": 58,
     "metadata": {},
     "output_type": "execute_result"
    }
   ],
   "source": [
    "df['corrupted_text'][df['text'].apply(lambda x: len(x) > 200)].iloc[0]"
   ]
  },
  {
   "cell_type": "code",
   "execution_count": 59,
   "id": "62640d49",
   "metadata": {},
   "outputs": [],
   "source": [
    "from transformers import T5ForConditionalGeneration, T5Tokenizer\n",
    "MODEL_NAME = 'cointegrated/rut5-base-paraphraser'\n",
    "tokenizer = T5Tokenizer.from_pretrained(MODEL_NAME)"
   ]
  },
  {
   "cell_type": "code",
   "execution_count": 62,
   "id": "a6e70fa7",
   "metadata": {},
   "outputs": [
    {
     "data": {
      "text/plain": [
       "'По сообщениям турецких СМИ, на похоронах мевлютый мерт алтынташ, полицейский и бывший сотрудника охраны президента турция, расстрелять посол РФ в Турции Карлова, присутствовать несколько тысяча человек.</s>'"
      ]
     },
     "execution_count": 62,
     "metadata": {},
     "output_type": "execute_result"
    }
   ],
   "source": [
    "tokenizer.decode(tokenizer.encode('По сообщениям турецких СМИ, на похоронах мевлютый мерт алтынташ, полицейский и бывший сотрудника охраны президента турция, расстрелять посол РФ в Турции Карлова, присутствовать несколько тысяча человек.'))"
   ]
  },
  {
   "cell_type": "code",
   "execution_count": 63,
   "id": "029d3cff",
   "metadata": {},
   "outputs": [
    {
     "name": "stderr",
     "output_type": "stream",
     "text": [
      "100%|████████████████████████████████████████████████████████████████████| 10779942/10779942 [22:42<00:00, 7910.40it/s]\n"
     ]
    }
   ],
   "source": [
    "df['text_tokens_len'] = df['text'].progress_apply(lambda x: len(tokenizer.encode(x)))"
   ]
  },
  {
   "cell_type": "code",
   "execution_count": 77,
   "id": "5b5d19b4",
   "metadata": {},
   "outputs": [],
   "source": [
    "df.to_csv(r'D:\\WorkFolder\\data\\augmentation_data_news2017\\0_sentences.csv', index=False)"
   ]
  },
  {
   "cell_type": "code",
   "execution_count": null,
   "id": "467fc371",
   "metadata": {},
   "outputs": [],
   "source": [
    "from transformers import T5ForConditionalGeneration, T5Tokenizer\n",
    "MODEL_NAME = 'cointegrated/rut5-base-paraphraser'\n",
    "model = T5ForConditionalGeneration.from_pretrained(MODEL_NAME)\n",
    "tokenizer = T5Tokenizer.from_pretrained(MODEL_NAME)\n",
    "model.cuda();\n",
    "model.eval();\n",
    "\n",
    "def paraphrase(text, beams=5, grams=4, do_sample=False):\n",
    "    x = tokenizer(text, return_tensors='pt', padding=True).to(model.device)\n",
    "    max_size = int(x.input_ids.shape[1] * 1.5 + 10)\n",
    "    out = model.generate(**x, encoder_no_repeat_ngram_size=grams, num_beams=beams, max_length=max_size, do_sample=do_sample)\n",
    "    return tokenizer.decode(out[0], skip_special_tokens=True)\n",
    "\n",
    "for i in range(10):\n",
    "    print(paraphrase('Каждый охотник желает знать, где сидит фазан.'))\n",
    "# Все охотники хотят знать где фазан сидит."
   ]
  },
  {
   "cell_type": "code",
   "execution_count": null,
   "id": "73f965dc",
   "metadata": {},
   "outputs": [],
   "source": [
    "df.shape[0] // 200 // 50"
   ]
  },
  {
   "cell_type": "code",
   "execution_count": 65,
   "id": "8b62d13f",
   "metadata": {},
   "outputs": [
    {
     "data": {
      "text/plain": [
       "((10769842, 3), (10000, 3), (100, 3))"
      ]
     },
     "execution_count": 65,
     "metadata": {},
     "output_type": "execute_result"
    }
   ],
   "source": [
    "from sklearn.model_selection import train_test_split\n",
    "\n",
    "train, val = train_test_split(df, test_size=10100)\n",
    "val, test = train_test_split(val, test_size=100)\n",
    "train.shape, val.shape, test.shape\n"
   ]
  },
  {
   "cell_type": "code",
   "execution_count": 66,
   "id": "22a48101",
   "metadata": {},
   "outputs": [],
   "source": [
    "train.to_csv(r'D:\\WorkFolder\\data\\augmentation_data_news2017\\0_sentences_train.csv', index=False)\n",
    "val.to_csv(r'D:\\WorkFolder\\data\\augmentation_data_news2017\\0_sentences_val.csv', index=False)\n",
    "test.to_csv(r'D:\\WorkFolder\\data\\augmentation_data_news2017\\0_sentences_test.csv', index=False)"
   ]
  },
  {
   "cell_type": "code",
   "execution_count": 8,
   "id": "759bd324",
   "metadata": {},
   "outputs": [],
   "source": [
    "from transformers import T5ForConditionalGeneration, T5Tokenizer\n",
    "\n",
    "MODEL_NAME = r'D:\\WorkFolder\\data\\t5_augm\\rut5_base_restorer_1m'\n",
    "model = T5ForConditionalGeneration.from_pretrained(MODEL_NAME)\n",
    "tokenizer = T5Tokenizer.from_pretrained(MODEL_NAME)\n",
    "model.cuda();\n",
    "model.eval();"
   ]
  },
  {
   "cell_type": "code",
   "execution_count": 2,
   "id": "0069cb69",
   "metadata": {},
   "outputs": [],
   "source": [
    "def generate(text):\n",
    "    text = \"thes_augm: \" + text\n",
    "    x = tokenizer(text, return_tensors='pt', padding=True).to(model.device)\n",
    "    max_size = int(x.input_ids.shape[1] * 1.5 + 10)\n",
    "    out = model.generate(**x, max_length=max_size)\n",
    "    return tokenizer.decode(out[0], skip_special_tokens=True)"
   ]
  },
  {
   "cell_type": "code",
   "execution_count": 5,
   "id": "e1dcf690",
   "metadata": {},
   "outputs": [],
   "source": [
    "import pandas as pd\n",
    "\n",
    "test = pd.read_csv(r'D:\\WorkFolder\\data\\augmentation_data_news2017\\0_sentences_test.csv')"
   ]
  },
  {
   "cell_type": "code",
   "execution_count": 14,
   "id": "9660124b",
   "metadata": {},
   "outputs": [
    {
     "data": {
      "text/plain": [
       "'Ее выполнение позволит правительственным войскам САР установить контроль над сирийско-турецкой границей.'"
      ]
     },
     "execution_count": 14,
     "metadata": {},
     "output_type": "execute_result"
    }
   ],
   "source": [
    "test['text'].sample(1).tolist()[0]"
   ]
  },
  {
   "cell_type": "code",
   "execution_count": 9,
   "id": "3aa0ad68",
   "metadata": {},
   "outputs": [
    {
     "data": {
      "text/plain": [
       "'Например, косметика, белье и медпрепараты, согласно нормам украинского законодательства, возврату не подлежат.'"
      ]
     },
     "execution_count": 9,
     "metadata": {},
     "output_type": "execute_result"
    }
   ],
   "source": [
    "generate(test['corrupted_text'].iloc[2])"
   ]
  },
  {
   "cell_type": "code",
   "execution_count": 81,
   "id": "f8b96cc1",
   "metadata": {},
   "outputs": [
    {
     "data": {
      "text/plain": [
       "<AxesSubplot:>"
      ]
     },
     "execution_count": 81,
     "metadata": {},
     "output_type": "execute_result"
    },
    {
     "data": {
      "image/png": "[encoded data removed]",
      "text/plain": [
       "<Figure size 432x288 with 1 Axes>"
      ]
     },
     "metadata": {
      "needs_background": "light"
     },
     "output_type": "display_data"
    }
   ],
   "source": [
    "df[df['text_tokens_len'].apply(lambda x: x < 256)]['text_tokens_len'].hist(bins=100)"
   ]
  },
  {
   "cell_type": "code",
   "execution_count": 87,
   "id": "3e2e3cbd",
   "metadata": {},
   "outputs": [
    {
     "data": {
      "text/plain": [
       "0.9793318925092547"
      ]
     },
     "execution_count": 87,
     "metadata": {},
     "output_type": "execute_result"
    }
   ],
   "source": [
    "df[df['text_tokens_len'].apply(lambda x: x < 96)].shape[0] / df.shape[0]"
   ]
  },
  {
   "cell_type": "code",
   "execution_count": 89,
   "id": "057a3d03",
   "metadata": {},
   "outputs": [],
   "source": [
    "model = model.to('cpu')"
   ]
  },
  {
   "cell_type": "code",
   "execution_count": null,
   "id": "6af14b7e",
   "metadata": {},
   "outputs": [],
   "source": [
    "from datasets import load_dataset\n",
    "data_files = {\n",
    "    'train': r'D:\\WorkFolder\\data\\augmentation_data_news2017\\0_train.csv',\n",
    "    'validation': r'D:\\WorkFolder\\data\\augmentation_data_news2017\\0_val.csv',\n",
    "    'test': r'D:\\WorkFolder\\data\\augmentation_data_news2017\\0_test.csv'\n",
    "}\n",
    "extension = 'csv'\n",
    "raw_datasets = load_dataset(extension, data_files=data_files, cache_dir=r'D:\\WorkFolder\\data\\augmentation_data_news2017')\n"
   ]
  },
  {
   "cell_type": "code",
   "execution_count": null,
   "id": "902c4795",
   "metadata": {},
   "outputs": [],
   "source": [
    "if \"train\" not in raw_datasets:\n",
    "    raise ValueError(\"--do_train requires a train dataset\")\n",
    "train_dataset = raw_datasets[\"train\"]\n",
    "with training_args.main_process_first(desc=\"train dataset map pre-processing\"):\n",
    "    train_dataset = train_dataset.map(\n",
    "        preprocess_function,\n",
    "        batched=True,\n",
    "        num_proc=data_args.preprocessing_num_workers,\n",
    "        remove_columns=column_names,\n",
    "        load_from_cache_file=not data_args.overwrite_cache,\n",
    "        desc=\"Running tokenizer on train dataset\",\n",
    "    )"
   ]
  },
  {
   "cell_type": "code",
   "execution_count": null,
   "id": "8fa7779c",
   "metadata": {},
   "outputs": [],
   "source": [
    "import torch\n",
    "\n",
    "torch.cuda.is_available()"
   ]
  },
  {
   "cell_type": "code",
   "execution_count": null,
   "id": "e78a8874",
   "metadata": {},
   "outputs": [],
   "source": [
    "print(paraphrase(some_text))"
   ]
  },
  {
   "cell_type": "code",
   "execution_count": null,
   "id": "67a0456c",
   "metadata": {},
   "outputs": [],
   "source": [
    "from nltk.corpus import wordnet\n",
    "import nltk\n",
    "nltk.download('wordnet')"
   ]
  },
  {
   "cell_type": "code",
   "execution_count": null,
   "id": "a390b85a",
   "metadata": {},
   "outputs": [],
   "source": [
    "help(wordnet.synsets)"
   ]
  },
  {
   "cell_type": "code",
   "execution_count": null,
   "id": "92fac230",
   "metadata": {},
   "outputs": [],
   "source": [
    "wordnet.synsets('walking', wordnet.NOUN)"
   ]
  },
  {
   "cell_type": "code",
   "execution_count": null,
   "id": "af68766a",
   "metadata": {},
   "outputs": [],
   "source": [
    "wordnet.synsets('walk')"
   ]
  },
  {
   "cell_type": "code",
   "execution_count": null,
   "id": "00295aa5",
   "metadata": {},
   "outputs": [],
   "source": [
    "wordnet.synsets('had')[0].lemma_names()"
   ]
  },
  {
   "cell_type": "code",
   "execution_count": null,
   "id": "a6f2d198",
   "metadata": {},
   "outputs": [],
   "source": [
    "from torch.utils.tensorboard import SummaryWriter"
   ]
  },
  {
   "cell_type": "code",
   "execution_count": null,
   "id": "db210095",
   "metadata": {},
   "outputs": [],
   "source": [
    "import torch\n",
    "torch.cuda.is_available()\n"
   ]
  },
  {
   "cell_type": "code",
   "execution_count": null,
   "id": "472cee14",
   "metadata": {},
   "outputs": [],
   "source": [
    "\n",
    "torch.cuda.current_device()\n",
    "\n"
   ]
  },
  {
   "cell_type": "code",
   "execution_count": null,
   "id": "ce85a4cf",
   "metadata": {},
   "outputs": [],
   "source": [
    "\n",
    "torch.cuda.device(0)\n"
   ]
  },
  {
   "cell_type": "code",
   "execution_count": null,
   "id": "0fef2888",
   "metadata": {},
   "outputs": [],
   "source": [
    "\n",
    "\n",
    "torch.cuda.device_count()\n"
   ]
  },
  {
   "cell_type": "code",
   "execution_count": null,
   "id": "aba8d213",
   "metadata": {},
   "outputs": [],
   "source": [
    "\n",
    "torch.cuda.get_device_name(0)"
   ]
  },
  {
   "cell_type": "code",
   "execution_count": null,
   "id": "6f9d0bee",
   "metadata": {},
   "outputs": [],
   "source": []
  }
 ],
 "metadata": {
  "interpreter": {
   "hash": "88ab7d1f138adb178a7ddf734a0a1dd2d25db2780a6169a21e3b8f8b839a01a9"
  },
  "kernelspec": {
   "display_name": "Python 3",
   "language": "python",
   "name": "python3"
  },
  "language_info": {
   "codemirror_mode": {
    "name": "ipython",
    "version": 3
   },
   "file_extension": ".py",
   "mimetype": "text/x-python",
   "name": "python",
   "nbconvert_exporter": "python",
   "pygments_lexer": "ipython3",
   "version": "3.8.8"
  }
 },
 "nbformat": 4,
 "nbformat_minor": 5
}
